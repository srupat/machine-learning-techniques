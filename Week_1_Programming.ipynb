{
  "nbformat": 4,
  "nbformat_minor": 0,
  "metadata": {
    "colab": {
      "provenance": []
    },
    "kernelspec": {
      "name": "python3",
      "display_name": "Python 3"
    },
    "language_info": {
      "name": "python"
    },
    "gpuClass": "standard"
  },
  "cells": [
    {
      "cell_type": "markdown",
      "source": [
        "# Week-1\n",
        "\n",
        "**Note to Learners**:\n",
        "\n",
        "- Click on \"Copy to Drive\", the button that appears just below the taskbar, to make a copy of this notebook in your drive. If you continue working with this notebook, changes **will not** be saved.\n",
        "\n",
        "\n",
        "- For questions that involve plotting, just enter $0$ as the answer in the portal.\n",
        "- For numerical questions, there are two parts. The first part expects you to compute some quantity, say a parameter of a machine learning model. The second part will require you to convert this quantity (if it is not a scalar) into a scalar so that it can be entered as the answer on the portal to the corresponding NAT question.\n",
        "\n"
      ],
      "metadata": {
        "id": "53TcQvUOjGxr"
      }
    },
    {
      "cell_type": "markdown",
      "source": [
        "## Dataset\n",
        "\n",
        "We will be working with a subset of the [MNIST dataset](https://en.wikipedia.org/wiki/MNIST_database). Run the cell given below to generate the data-matrix $\\mathbf{X}$, which is of shape $(n, d)$, where $n$ denotes the number of samples and $d$ denotes the number of features. You will be using this dataset for the rest of the assignment. Do not edit this cell."
      ],
      "metadata": {
        "id": "I3DzbeU33QxN"
      }
    },
    {
      "cell_type": "code",
      "source": [
        "##### DATASET GENERATION #####\n",
        "import numpy as np\n",
        "from keras.datasets import mnist\n",
        "(X_train, y_train), (X_test, y_test) = mnist.load_data()\n",
        "X = X_train[y_train == 2][: 100].reshape(-1, 28 * 28)\n",
        "test_image = X_test[y_test == 2][0].reshape(28 * 28)\n",
        "##### DO NOT EDIT THIS CELL #####"
      ],
      "metadata": {
        "id": "uOBXmnyg3ZFH",
        "outputId": "ce702b15-4802-4c7d-9045-8fc6c22ffdc0",
        "colab": {
          "base_uri": "https://localhost:8080/"
        }
      },
      "execution_count": 1,
      "outputs": [
        {
          "output_type": "stream",
          "name": "stdout",
          "text": [
            "Downloading data from https://storage.googleapis.com/tensorflow/tf-keras-datasets/mnist.npz\n",
            "\u001b[1m11490434/11490434\u001b[0m \u001b[32m━━━━━━━━━━━━━━━━━━━━\u001b[0m\u001b[37m\u001b[0m \u001b[1m1s\u001b[0m 0us/step\n"
          ]
        }
      ]
    },
    {
      "cell_type": "markdown",
      "source": [
        "## Problem-1\n",
        "\n",
        "How many samples does the dataset have?"
      ],
      "metadata": {
        "id": "5RyvzK8z4o47"
      }
    },
    {
      "cell_type": "code",
      "source": [
        "# Enter your solution here\n",
        "num = X.shape[0]\n",
        "print(num)"
      ],
      "metadata": {
        "id": "rFXCXoje52x-",
        "outputId": "c9edb8b6-fb53-4835-d513-b1b8712e0189",
        "colab": {
          "base_uri": "https://localhost:8080/"
        }
      },
      "execution_count": 2,
      "outputs": [
        {
          "output_type": "stream",
          "name": "stdout",
          "text": [
            "100\n"
          ]
        }
      ]
    },
    {
      "cell_type": "markdown",
      "source": [
        "## Problem-2\n",
        "\n",
        "How many features does the dataset have?"
      ],
      "metadata": {
        "id": "UrmLi2sK4ynX"
      }
    },
    {
      "cell_type": "code",
      "source": [
        "# Enter your solution here\n",
        "X.shape[1]"
      ],
      "metadata": {
        "id": "WQ75O4D141R0",
        "outputId": "e3fc4333-0666-4409-a9e8-3c78c0c9624c",
        "colab": {
          "base_uri": "https://localhost:8080/"
        }
      },
      "execution_count": 3,
      "outputs": [
        {
          "output_type": "execute_result",
          "data": {
            "text/plain": [
              "784"
            ]
          },
          "metadata": {},
          "execution_count": 3
        }
      ]
    },
    {
      "cell_type": "markdown",
      "source": [
        "## Problem-3\n",
        "\n",
        "Each sample corresponds to an image of dimension $28 \\times 28$. Visualize one of these images using the `matplotlib` library.\n",
        "\n",
        "- You need to know how to reshape a feature vector. Refer to week-0 content for the same.\n",
        "- You can refer to the following [document](https://matplotlib.org/stable/tutorials/introductory/images.html#sphx-glr-tutorials-introductory-images-py) for plotting NumPy arrays as images using `matplotlib`."
      ],
      "metadata": {
        "id": "BPUFxtI55G2h"
      }
    },
    {
      "cell_type": "code",
      "source": [
        "# Enter your solution here\n",
        "import matplotlib.pyplot as plt\n",
        "plt.imshow(X[0].reshape(28, 28))"
      ],
      "metadata": {
        "id": "ExvRNXPZ6246",
        "outputId": "9f88677e-5553-451a-d19a-a3248d6c51ce",
        "colab": {
          "base_uri": "https://localhost:8080/",
          "height": 447
        }
      },
      "execution_count": 4,
      "outputs": [
        {
          "output_type": "execute_result",
          "data": {
            "text/plain": [
              "<matplotlib.image.AxesImage at 0x78357d92c5b0>"
            ]
          },
          "metadata": {},
          "execution_count": 4
        },
        {
          "output_type": "display_data",
          "data": {
            "text/plain": [
              "<Figure size 640x480 with 1 Axes>"
            ],
            "image/png": "[encoded data removed]"
          },
          "metadata": {}
        }
      ]
    },
    {
      "cell_type": "markdown",
      "source": [
        "## Problem-4\n",
        "\n",
        "Center the the dataset $\\mathbf{X}$ around its mean. Call this centered dataset $\\mathbf{X}^{\\prime}$.\n",
        "\n",
        "<u>Conversion</u>\n",
        "\n",
        "Enter the following quantity as your answer correct to two decimal places:\n",
        "\n",
        "$$\n",
        "\\cfrac{1}{n \\cdot d} \\sqrt{\\sum \\limits_{i = 1}^{n} \\sum \\limits_{j = 1}^{d} (X_{ij}^{\\prime})^2}\n",
        "$$"
      ],
      "metadata": {
        "id": "8e2xflo8FF8K"
      }
    },
    {
      "cell_type": "code",
      "source": [
        "# Enter your solution here\n",
        "X_prime = X - np.mean(X, axis=0)\n",
        "print(np.mean(X_prime))"
      ],
      "metadata": {
        "id": "9uNDPtBjH5Df",
        "outputId": "019633a2-3656-40d8-923d-d0a880746bfd",
        "colab": {
          "base_uri": "https://localhost:8080/"
        }
      },
      "execution_count": 6,
      "outputs": [
        {
          "output_type": "stream",
          "name": "stdout",
          "text": [
            "3.2481953634747437e-16\n"
          ]
        }
      ]
    },
    {
      "cell_type": "markdown",
      "source": [
        "## Problem-5\n",
        "\n",
        "Compute the covariance matrix $\\mathbf{C}$ of the centered dataset.\n",
        "\n",
        "<u>Conversion</u>\n",
        "\n",
        "Enter the following quantity as your answer correct to two decimal places:\n",
        "\n",
        "$$\n",
        "\\cfrac{1}{d^2} \\sqrt{\\sum \\limits_{i = 1}^{d} \\sum \\limits_{j = 1}^{d} C_{ij}^2}\n",
        "$$"
      ],
      "metadata": {
        "id": "8UPKuD8uJCnE"
      }
    },
    {
      "cell_type": "code",
      "source": [
        "# Enter your solution here\n",
        "C = np.cov(X_prime.T)\n",
        "print(np.mean(C))"
      ],
      "metadata": {
        "id": "ZWT1bzBDlk2m",
        "outputId": "e46b3e13-fcbf-40dd-d01a-cc3b533e357e",
        "colab": {
          "base_uri": "https://localhost:8080/"
        }
      },
      "execution_count": 7,
      "outputs": [
        {
          "output_type": "stream",
          "name": "stdout",
          "text": [
            "94.1069883182092\n"
          ]
        }
      ]
    },
    {
      "cell_type": "code",
      "source": [
        "C"
      ],
      "metadata": {
        "id": "0w-dKAxzCnyl",
        "outputId": "b07afd81-c933-4836-f9dc-a109bfff9d57",
        "colab": {
          "base_uri": "https://localhost:8080/"
        }
      },
      "execution_count": 21,
      "outputs": [
        {
          "output_type": "execute_result",
          "data": {
            "text/plain": [
              "array([[0., 0., 0., ..., 0., 0., 0.],\n",
              "       [0., 0., 0., ..., 0., 0., 0.],\n",
              "       [0., 0., 0., ..., 0., 0., 0.],\n",
              "       ...,\n",
              "       [0., 0., 0., ..., 0., 0., 0.],\n",
              "       [0., 0., 0., ..., 0., 0., 0.],\n",
              "       [0., 0., 0., ..., 0., 0., 0.]])"
            ]
          },
          "metadata": {},
          "execution_count": 21
        }
      ]
    },
    {
      "cell_type": "markdown",
      "source": [
        "## Problem-6\n",
        "\n",
        "Compute the first and second principal components of the dataset, $\\mathbf{w}_1$ and $\\mathbf{w}_2$.\n",
        "\n",
        "<u>Conversion</u>\n",
        "\n",
        "Compute:\n",
        "$$\n",
        "\\mathbf{w} = \\mathbf{w}_1 + \\mathbf{w}_2\n",
        "$$\n",
        "\n",
        "Enter the following quantity as your answer correct to two decimal places:\n",
        "\n",
        "$$\n",
        "\\left| \\sum \\limits_{i = 1}^{d} w_i \\right|\n",
        "$$"
      ],
      "metadata": {
        "id": "FfJK8OiMr2mh"
      }
    },
    {
      "cell_type": "code",
      "source": [
        "# Enter your solution here\n",
        "w1 = np.linalg.eig(C)[1][:, 0]\n",
        "w2 = np.linalg.eig(C)[1][:, 1]\n",
        "w = w1 + w2\n",
        "print(np.sum(w))"
      ],
      "metadata": {
        "id": "KgJ1FCa1tvZR",
        "outputId": "9f66a3fa-5a5b-42ca-95ec-8aa02ebbb43e",
        "colab": {
          "base_uri": "https://localhost:8080/"
        }
      },
      "execution_count": 11,
      "outputs": [
        {
          "output_type": "stream",
          "name": "stdout",
          "text": [
            "(1.0516243880598384+0j)\n"
          ]
        }
      ]
    },
    {
      "cell_type": "markdown",
      "source": [
        "## Problem-7\n",
        "\n",
        "Visualize the first principal component as an image."
      ],
      "metadata": {
        "id": "9CBt_pmj-5pl"
      }
    },
    {
      "cell_type": "code",
      "source": [
        "# Enter your solution here\n",
        "plt.imshow(w1.reshape(28, 28).real)"
      ],
      "metadata": {
        "id": "KXiJLyT7_N29",
        "outputId": "7e5aaee2-24a5-41cc-8530-c94844d6ccfd",
        "colab": {
          "base_uri": "https://localhost:8080/",
          "height": 447
        }
      },
      "execution_count": 13,
      "outputs": [
        {
          "output_type": "execute_result",
          "data": {
            "text/plain": [
              "<matplotlib.image.AxesImage at 0x78357b5f2e90>"
            ]
          },
          "metadata": {},
          "execution_count": 13
        },
        {
          "output_type": "display_data",
          "data": {
            "text/plain": [
              "<Figure size 640x480 with 1 Axes>"
            ],
            "image/png": "[encoded data removed]"
          },
          "metadata": {}
        }
      ]
    },
    {
      "cell_type": "markdown",
      "source": [
        "## Problem-8\n",
        "\n",
        "Find the smallest value of $k$ for which the first $k$ principal components capture at least $95\\%$ of the variance in the data."
      ],
      "metadata": {
        "id": "o37ie_mqxqhy"
      }
    },
    {
      "cell_type": "code",
      "source": [
        "# Enter your solution here\n",
        "total = np.sum(np.linalg.eig(C)[0])\n",
        "for i in range(1, 785):\n",
        "  if np.sum(np.linalg.eig(C)[0][:i]) / total >= 0.95:\n",
        "    print(i)\n",
        "    break"
      ],
      "metadata": {
        "id": "_JiPpEwCyvQK",
        "outputId": "9eaf37b2-8b6f-4871-baae-6ab00bbee787",
        "colab": {
          "base_uri": "https://localhost:8080/"
        }
      },
      "execution_count": 15,
      "outputs": [
        {
          "output_type": "stream",
          "name": "stdout",
          "text": [
            "53\n"
          ]
        }
      ]
    },
    {
      "cell_type": "markdown",
      "source": [
        "## Problem-9\n",
        "\n",
        "Given a `test_image`, visualize the proxies  by reconstructing it using the top $k$ principal components. Consider four values of $k$; values of $k$ for which the top-$k$ principal components explain:\n",
        "\n",
        "- 20% of the variance\n",
        "- 50% of the variance\n",
        "- 80% of the variance\n",
        "- 95% of the variance\n",
        "\n"
      ],
      "metadata": {
        "id": "5raTmu_s0Gpq"
      }
    },
    {
      "cell_type": "code",
      "source": [
        "def get_k(variance):\n",
        "  total = np.sum(np.linalg.eig(C)[0])\n",
        "  for i in range(1, 785):\n",
        "    if np.sum(np.linalg.eig(C)[0][:i]) / total >= variance:\n",
        "      return i"
      ],
      "metadata": {
        "id": "R91jrjotBRKJ"
      },
      "execution_count": 17,
      "outputs": []
    },
    {
      "cell_type": "code",
      "source": [
        "# Enter your solution here\n",
        "k_20 = get_k(0.2)\n",
        "k_50 = get_k(0.5)\n",
        "k_80 = get_k(0.8)\n",
        "k_95 = get_k(0.95)\n",
        "\n",
        "k=[]\n",
        "\n",
        "k.append(k_20)\n",
        "k.append(k_50)\n",
        "k.append(k_80)\n",
        "k.append(k_95)\n",
        "\n",
        "# plt.subplot(2, 2, 1)\n",
        "for i in range(4):\n",
        "  print(\"Plot number : \", i + 1)\n",
        "  plt.subplot(2, 2, i + 1)\n",
        "  plt.imshow(k[i] * np.linalg.eig(C)[1][:, i].reshape(28, 28).real)"
      ],
      "metadata": {
        "id": "yrjf1Er24vLo",
        "outputId": "4abee025-e528-4e8f-e941-70477fa60382",
        "colab": {
          "base_uri": "https://localhost:8080/",
          "height": 501
        }
      },
      "execution_count": 20,
      "outputs": [
        {
          "output_type": "stream",
          "name": "stdout",
          "text": [
            "Plot number :  1\n",
            "Plot number :  2\n",
            "Plot number :  3\n",
            "Plot number :  4\n"
          ]
        },
        {
          "output_type": "display_data",
          "data": {
            "text/plain": [
              "<Figure size 640x480 with 4 Axes>"
            ],
            "image/png": "[encoded data removed]"
          },
          "metadata": {}
        }
      ]
    }
  ]
}